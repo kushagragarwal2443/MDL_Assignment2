{
 "cells": [
  {
   "cell_type": "code",
   "execution_count": 1,
   "metadata": {},
   "outputs": [],
   "source": [
    "import numpy as np\n",
    "import pandas as pd\n",
    "from matplotlib import pyplot as plt\n",
    "import seaborn as sns"
   ]
  },
  {
   "cell_type": "markdown",
   "metadata": {},
   "source": [
    "## The Markov Decision Process"
   ]
  },
  {
   "cell_type": "code",
   "execution_count": 2,
   "metadata": {},
   "outputs": [],
   "source": [
    "ACTIONS = [\"SHOOT\", \"DODGE\", \"RECHARGE\"]\n",
    "STAMINA = [0, 50, 100]\n",
    "ARROWS = [0, 1, 2, 3]\n",
    "DRAGON_HEALTH = [0, 25, 50, 75, 100]\n",
    "\n",
    "v_table = np.zeros(shape=(5, 4, 3)) # (arrows, stamina, health)\n",
    "p_table = np.zeros(shape=(5, 4, 3))\n",
    "q_table = np.zeros(shape=(5, 4, 3, len(ACTIONS)))"
   ]
  },
  {
   "cell_type": "code",
   "execution_count": 3,
   "metadata": {},
   "outputs": [],
   "source": [
    "STATES = [(h, a, s) for h in range(v_table.shape[0]) \n",
    "                    for a in range(v_table.shape[1]) \n",
    "                    for s in range(v_table.shape[2])]"
   ]
  },
  {
   "cell_type": "code",
   "execution_count": 4,
   "metadata": {},
   "outputs": [],
   "source": [
    "INFINTIY = 1e16\n",
    "\n",
    "def get_next_utility(state: tuple, action: int) -> float:\n",
    "    \"\"\"\n",
    "    Computes the utility of the next state\n",
    "    \"\"\"\n",
    "    assert len(state) == 3 and state[0] < 5 and state[1] < 4 and state[2] < 3 and action < 3\n",
    "    dragon_health, arrows, stamina = state\n",
    "    if dragon_health == 0:\n",
    "        return 0.0\n",
    "    if ACTIONS[action] == \"SHOOT\":\n",
    "        if arrows == 0 or stamina == 0:\n",
    "            return -INFINTIY\n",
    "        return 0.5 * v_table[dragon_health, arrows - 1, stamina - 1] + \\\n",
    "               0.5 * v_table[dragon_health - 1, arrows - 1, stamina - 1]\n",
    "    elif ACTIONS[action] == \"DODGE\":\n",
    "        if stamina == 0:\n",
    "            return -INFINTIY\n",
    "        elif stamina == 1:\n",
    "            return 0.8 * v_table[dragon_health, min(arrows + 1, 3), 0] + \\\n",
    "                   0.2 * v_table[dragon_health, arrows, 0]\n",
    "        elif stamina == 2:\n",
    "            return 0.8 * 0.8 * v_table[dragon_health, min(arrows + 1, 3), 1] + \\\n",
    "                   0.2 * 0.8 * v_table[dragon_health, arrows, 1] + \\\n",
    "                   0.8 * 0.2 * v_table[dragon_health, min(arrows + 1, 3), 0] + \\\n",
    "                   0.2 * 0.2 * v_table[dragon_health, arrows, 0]\n",
    "    elif ACTIONS[action] == \"RECHARGE\":\n",
    "        return 0.8 * v_table[dragon_health, arrows, min(stamina + 1, 2)] + \\\n",
    "               0.2 * v_table[dragon_health, arrows, stamina]"
   ]
  },
  {
   "cell_type": "code",
   "execution_count": 5,
   "metadata": {},
   "outputs": [],
   "source": [
    "def get_action_cost(state: tuple, action: int) -> float:\n",
    "    \"\"\"\n",
    "    Returns the reward associated with each action taken\n",
    "    \"\"\"\n",
    "    assert len(state) == 3 and state[0] < 5 and state[1] < 4 and state[2] < 3 and action < 3\n",
    "    if state[0] == 0:\n",
    "        return 0.0\n",
    "    if state[0] == 1 and action == 0:\n",
    "        return -20.0 + 10.0 * 0.5\n",
    "    return -20.0 # Penalty = 20 due to Team Number = 9"
   ]
  },
  {
   "cell_type": "code",
   "execution_count": 6,
   "metadata": {},
   "outputs": [],
   "source": [
    "def check_convergence(old_table: np.ndarray, new_table: np.ndarray, delta: int = 0.001) -> bool:\n",
    "    \"\"\"\n",
    "    Checks if the value iteration algorithm has converged\n",
    "    \"\"\"\n",
    "    assert old_table.shape == new_table.shape\n",
    "    ans = np.max(np.abs(new_table - old_table)) < delta\n",
    "    return ans"
   ]
  },
  {
   "cell_type": "code",
   "execution_count": 7,
   "metadata": {},
   "outputs": [],
   "source": [
    "def random_initialize():\n",
    "    \"\"\"\n",
    "    Randomly assigns values to the v_table and the p_table\n",
    "    \"\"\"\n",
    "    global v_table, q_table, p_table\n",
    "    v_table = np.random.random(size=v_table.shape)\n",
    "    q_table = np.zeros(shape=q_table.shape)\n",
    "    p_table = np.random.choice(range(len(ACTIONS)), size=p_table.shape)"
   ]
  },
  {
   "cell_type": "code",
   "execution_count": 8,
   "metadata": {},
   "outputs": [],
   "source": [
    "def print_state(iteration: int, v_table: np.ndarray, p_table: np.ndarray, filename = None):\n",
    "    \"\"\"\n",
    "    Prints the entire state in the Value Iteration Algorithm\n",
    "    \"\"\"\n",
    "    assert len(v_table.shape) == len(p_table.shape) == 3\n",
    "    if filename == None:\n",
    "        print(\"iteration=\", iteration)\n",
    "        for h, a, s in STATES:\n",
    "            print(\"({0},{1},{2}):{3}=[{4:.3f}]\".format(\n",
    "                h, a, s, \n",
    "                ACTIONS[p_table[h][a][s]] if h != 0 else '-1', v_table[h][a][s]))\n",
    "        print(\"\\n\\n\")\n",
    "    else:\n",
    "        with open(filename, 'a') as f:\n",
    "            f.write(\"iteration={}\\n\".format(iteration))\n",
    "            for h, a, s in STATES:\n",
    "                f.write(\"({0},{1},{2}):{3}=[{4:.3f}]\\n\".format(\n",
    "                    h, a, s, \n",
    "                    ACTIONS[p_table[h][a][s]] if h != 0 else '-1', v_table[h][a][s]))\n",
    "            f.write(\"\\n\\n\")"
   ]
  },
  {
   "cell_type": "markdown",
   "metadata": {},
   "source": [
    "## The Value Iteration Algorithm"
   ]
  },
  {
   "cell_type": "markdown",
   "metadata": {},
   "source": [
    "```\n",
    "Procedure Value_Iteration(S, A, P, R, θ)\n",
    "    Inputs:\n",
    "        S is the set of all states\n",
    "        A is the set of all actions\n",
    "        P is state transition function specifying P(s'|s,a)\n",
    "        R is a reward function R(s,a,s')\n",
    "        θ a threshold, θ > 0$\n",
    "    Output:\n",
    "        π[S] approximately optimal policy\n",
    "        V[S] value function\n",
    "    Local:\n",
    "        real array Vk[S] is a sequence of value functions\n",
    "        action array π[S]\n",
    "        \n",
    "    assign V0[S] arbitrarily\n",
    "    k ← 0\n",
    "    repeat\n",
    "       k ← k+1\n",
    "       for each state s do\n",
    "           Vk[s] = maxa ∑s' P(s'|s,a) (R(s,a,s')+ γVk-1[s'])\n",
    "    until ∀s |Vk[s]-Vk-1[s]| < θ\n",
    "    for each state s do\n",
    "       π[s] = argmaxa ∑s' P(s'|s,a) (R(s,a,s')+ γVk[s'])\n",
    "    return π,Vk\n",
    "```"
   ]
  },
  {
   "cell_type": "code",
   "execution_count": 9,
   "metadata": {},
   "outputs": [],
   "source": [
    "history_delta = []\n",
    "\n",
    "def value_iteration(gamma = 0.99):\n",
    "    \"\"\"\n",
    "    Computes the Optimal Policy and the State Values\n",
    "    \"\"\"\n",
    "    global v_table, p_table, q_table\n",
    "    random_initialize()\n",
    "    converged = False\n",
    "    for iteration in range(1, 1000):\n",
    "        for h, a, s in STATES:\n",
    "            for act in range(len(ACTIONS)):\n",
    "                q_table[h, a, s, act] = gamma * get_next_utility((h, a, s), act) \\\n",
    "                                              + get_action_cost((h, a, s), act)\n",
    "        new_v_table = np.max(q_table, axis=3)\n",
    "        p_table = np.argmax(q_table, axis=3)\n",
    "        converged = check_convergence(v_table, new_v_table)\n",
    "        history_delta.append(np.max(np.abs(new_v_table - v_table)))\n",
    "        v_table = new_v_table\n",
    "        print_state(iteration, v_table, p_table, 'outputs/task_1_trace.txt')\n",
    "        if converged:\n",
    "            break"
   ]
  },
  {
   "cell_type": "code",
   "execution_count": 10,
   "metadata": {},
   "outputs": [],
   "source": [
    "value_iteration()"
   ]
  },
  {
   "cell_type": "markdown",
   "metadata": {},
   "source": [
    "## Checking our Answers"
   ]
  },
  {
   "cell_type": "code",
   "execution_count": 11,
   "metadata": {},
   "outputs": [
    {
     "data": {
      "image/png": "[encoded data removed]",
      "text/plain": [
       "<Figure size 432x288 with 1 Axes>"
      ]
     },
     "metadata": {
      "needs_background": "light"
     },
     "output_type": "display_data"
    }
   ],
   "source": [
    "plt.plot(history_delta)\n",
    "plt.xlabel('Iteration')\n",
    "plt.ylabel('Delta')\n",
    "plt.show()"
   ]
  },
  {
   "cell_type": "code",
   "execution_count": 12,
   "metadata": {},
   "outputs": [
    {
     "data": {
      "image/png": "[encoded data removed]",
      "text/plain": [
       "<Figure size 1080x288 with 6 Axes>"
      ]
     },
     "metadata": {
      "needs_background": "light"
     },
     "output_type": "display_data"
    }
   ],
   "source": [
    "fig, ax = plt.subplots(1, 3, figsize=(15, 4))\n",
    "sns.heatmap(v_table[:, :, 0], ax=ax[0])\n",
    "ax[0].set_title('Stamina = 0')\n",
    "ax[0].set_xlabel('Arrows')\n",
    "ax[0].set_ylabel('Health')\n",
    "sns.heatmap(v_table[:, :, 1], ax=ax[1])\n",
    "ax[1].set_title('Stamina = 1')\n",
    "ax[1].set_xlabel('Arrows')\n",
    "ax[1].set_ylabel('Health')\n",
    "sns.heatmap(v_table[:, :, 2], ax=ax[2])\n",
    "ax[2].set_title('Stamina = 2')\n",
    "ax[2].set_xlabel('Arrows')\n",
    "ax[2].set_ylabel('Health')\n",
    "plt.show()"
   ]
  },
  {
   "cell_type": "code",
   "execution_count": 13,
   "metadata": {
    "scrolled": true
   },
   "outputs": [
    {
     "data": {
      "image/png": "[encoded data removed]",
      "text/plain": [
       "<Figure size 720x720 with 8 Axes>"
      ]
     },
     "metadata": {
      "needs_background": "light"
     },
     "output_type": "display_data"
    }
   ],
   "source": [
    "fig, ax = plt.subplots(2, 2, figsize=(10, 10))\n",
    "sns.heatmap(v_table[:, 0, :], ax=ax[0][0])\n",
    "ax[0][0].set_title('Arrows = 0')\n",
    "ax[0][0].set_xlabel('Stamina')\n",
    "ax[0][0].set_ylabel('Health')\n",
    "sns.heatmap(v_table[:, 1, :], ax=ax[0][1])\n",
    "ax[0][1].set_title('Arrows = 1')\n",
    "ax[0][1].set_xlabel('Stamina')\n",
    "ax[0][1].set_ylabel('Health')\n",
    "sns.heatmap(v_table[:, 2, :], ax=ax[1][0])\n",
    "ax[1][0].set_title('Arrows = 2')\n",
    "ax[1][0].set_xlabel('Stamina')\n",
    "ax[1][0].set_ylabel('Health')\n",
    "sns.heatmap(v_table[:, 3, :], ax=ax[1][1])\n",
    "ax[1][1].set_title('Arrows = 3')\n",
    "ax[1][1].set_xlabel('Stamina')\n",
    "ax[1][1].set_ylabel('Health')\n",
    "\n",
    "plt.show()"
   ]
  },
  {
   "cell_type": "markdown",
   "metadata": {},
   "source": [
    "## Final Observations"
   ]
  },
  {
   "cell_type": "markdown",
   "metadata": {},
   "source": [
    "The graphs and the policy are reasonably obvious, it's better to have more stamina and arrows, and that the Dragon has less health. The actions (shown below) are quite close to the obvious greedy policy (e.g. things like - shoot if you have arrows and dragon is close to dying, dodge if you need arrows or if you have lesser stamina and the dragon is still not close to dying and recharge definitely when you have 0 stamina) since the value function of the game is very smooth."
   ]
  },
  {
   "cell_type": "markdown",
   "metadata": {},
   "source": [
    "**Converged Policy Output**\n",
    "```\n",
    "iteration=126\n",
    "(0,0,0):-1=[0.000]\n",
    "(0,0,1):-1=[0.000]\n",
    "(0,0,2):-1=[0.000]\n",
    "(0,1,0):-1=[0.000]\n",
    "(0,1,1):-1=[0.000]\n",
    "(0,1,2):-1=[0.000]\n",
    "(0,2,0):-1=[0.000]\n",
    "(0,2,1):-1=[0.000]\n",
    "(0,2,2):-1=[0.000]\n",
    "(0,3,0):-1=[0.000]\n",
    "(0,3,1):-1=[0.000]\n",
    "(0,3,2):-1=[0.000]\n",
    "(1,0,0):RECHARGE=[-179.508]\n",
    "(1,0,1):DODGE=[-156.522]\n",
    "(1,0,2):DODGE=[-137.901]\n",
    "(1,1,0):RECHARGE=[-127.499]\n",
    "(1,1,1):SHOOT=[-103.856]\n",
    "(1,1,2):SHOOT=[-92.478]\n",
    "(1,2,0):RECHARGE=[-102.076]\n",
    "(1,2,1):SHOOT=[-78.112]\n",
    "(1,2,2):SHOOT=[-66.409]\n",
    "(1,3,0):RECHARGE=[-89.648]\n",
    "(1,3,1):SHOOT=[-65.527]\n",
    "(1,3,2):SHOOT=[-53.665]\n",
    "(2,0,0):RECHARGE=[-351.231]\n",
    "(2,0,1):DODGE=[-330.413]\n",
    "(2,0,2):DODGE=[-313.549]\n",
    "(2,1,0):RECHARGE=[-304.128]\n",
    "(2,1,1):RECHARGE=[-282.716]\n",
    "(2,1,2):SHOOT=[-261.033]\n",
    "(2,2,0):RECHARGE=[-255.680]\n",
    "(2,2,1):SHOOT=[-233.656]\n",
    "(2,2,2):SHOOT=[-211.353]\n",
    "(2,3,0):RECHARGE=[-219.569]\n",
    "(2,3,1):SHOOT=[-197.089]\n",
    "(2,3,2):SHOOT=[-174.325]\n",
    "(3,0,0):RECHARGE=[-506.755]\n",
    "(3,0,1):DODGE=[-487.901]\n",
    "(3,0,2):DODGE=[-472.628]\n",
    "(3,1,0):RECHARGE=[-464.096]\n",
    "(3,1,1):SHOOT=[-444.703]\n",
    "(3,1,2):SHOOT=[-425.066]\n",
    "(3,2,0):RECHARGE=[-420.218]\n",
    "(3,2,1):DODGE=[-400.271]\n",
    "(3,2,2):SHOOT=[-380.072]\n",
    "(3,3,0):RECHARGE=[-375.086]\n",
    "(3,3,1):RECHARGE=[-354.569]\n",
    "(3,3,2):SHOOT=[-333.794]\n",
    "(4,0,0):RECHARGE=[-647.604]\n",
    "(4,0,1):DODGE=[-630.529]\n",
    "(4,0,2):DODGE=[-616.697]\n",
    "(4,1,0):RECHARGE=[-608.970]\n",
    "(4,1,1):DODGE=[-591.407]\n",
    "(4,1,2):SHOOT=[-573.623]\n",
    "(4,2,0):RECHARGE=[-569.232]\n",
    "(4,2,1):DODGE=[-551.167]\n",
    "(4,2,2):SHOOT=[-532.874]\n",
    "(4,3,0):RECHARGE=[-528.358]\n",
    "(4,3,1):SHOOT=[-509.777]\n",
    "(4,3,2):SHOOT=[-490.962]\n",
    "```"
   ]
  }
 ],
 "metadata": {
  "kernelspec": {
   "display_name": "Python 3.6.8 64-bit",
   "language": "python",
   "name": "python36864bit936fdc4f78e4464fb8d307b432d40f4d"
  },
  "language_info": {
   "codemirror_mode": {
    "name": "ipython",
    "version": 3
   },
   "file_extension": ".py",
   "mimetype": "text/x-python",
   "name": "python",
   "nbconvert_exporter": "python",
   "pygments_lexer": "ipython3",
   "version": "3.6.8"
  }
 },
 "nbformat": 4,
 "nbformat_minor": 2
}
