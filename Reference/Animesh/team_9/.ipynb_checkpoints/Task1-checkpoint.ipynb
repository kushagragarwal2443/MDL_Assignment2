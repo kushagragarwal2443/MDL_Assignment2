{
 "cells": [
  {
   "cell_type": "code",
   "execution_count": 1,
   "metadata": {},
   "outputs": [],
   "source": [
    "import numpy as np\n",
    "import pandas as pd\n",
    "from matplotlib import pyplot as plt\n",
    "import seaborn as sns"
   ]
  },
  {
   "cell_type": "markdown",
   "metadata": {},
   "source": [
    "## The Markov Decision Process"
   ]
  },
  {
   "cell_type": "code",
   "execution_count": 2,
   "metadata": {},
   "outputs": [],
   "source": [
    "ACTIONS = [\"SHOOT\", \"DODGE\", \"RECHARGE\"]\n",
    "STAMINA = [0, 50, 100]\n",
    "ARROWS = [0, 1, 2, 3]\n",
    "DRAGON_HEALTH = [0, 25, 50, 75, 100]\n",
    "\n",
    "v_table = np.zeros(shape=(5, 4, 3)) # (arrows, stamina, health)\n",
    "p_table = np.zeros(shape=(5, 4, 3))\n",
    "q_table = np.zeros(shape=(5, 4, 3, len(ACTIONS)))"
   ]
  },
  {
   "cell_type": "code",
   "execution_count": 3,
   "metadata": {},
   "outputs": [],
   "source": [
    "STATES = [(h, a, s) for h in range(v_table.shape[0]) \n",
    "                    for a in range(v_table.shape[1]) \n",
    "                    for s in range(v_table.shape[2])]"
   ]
  },
  {
   "cell_type": "code",
   "execution_count": 4,
   "metadata": {},
   "outputs": [],
   "source": [
    "INFINTIY = 1e16\n",
    "\n",
    "def get_next_utility(state: tuple, action: int) -> float:\n",
    "    \"\"\"\n",
    "    Computes the utility of the next state\n",
    "    \"\"\"\n",
    "    assert len(state) == 3 and state[0] < 5 and state[1] < 4 and state[2] < 3 and action < 3\n",
    "    dragon_health, arrows, stamina = state\n",
    "    if dragon_health == 0:\n",
    "        return 0.0\n",
    "    if ACTIONS[action] == \"SHOOT\":\n",
    "        if arrows == 0 or stamina == 0:\n",
    "            return -INFINTIY\n",
    "        return 0.5 * v_table[dragon_health, arrows - 1, stamina - 1] + \\\n",
    "               0.5 * v_table[dragon_health - 1, arrows - 1, stamina - 1]\n",
    "    elif ACTIONS[action] == \"DODGE\":\n",
    "        if stamina == 0:\n",
    "            return -INFINTIY\n",
    "        elif stamina == 1:\n",
    "            return 0.8 * v_table[dragon_health, min(arrows + 1, 3), 0] + \\\n",
    "                   0.2 * v_table[dragon_health, arrows, 0]\n",
    "        elif stamina == 2:\n",
    "            return 0.8 * 0.8 * v_table[dragon_health, min(arrows + 1, 3), 1] + \\\n",
    "                   0.2 * 0.8 * v_table[dragon_health, arrows, 1] + \\\n",
    "                   0.8 * 0.2 * v_table[dragon_health, min(arrows + 1, 3), 0] + \\\n",
    "                   0.2 * 0.2 * v_table[dragon_health, arrows, 0]\n",
    "    elif ACTIONS[action] == \"RECHARGE\":\n",
    "        return 0.8 * v_table[dragon_health, arrows, min(stamina + 1, 2)] + \\\n",
    "               0.2 * v_table[dragon_health, arrows, stamina]"
   ]
  },
  {
   "cell_type": "code",
   "execution_count": 5,
   "metadata": {},
   "outputs": [],
   "source": [
    "def get_action_cost(state: tuple, action: int) -> float:\n",
    "    \"\"\"\n",
    "    Returns the reward associated with each action taken\n",
    "    \"\"\"\n",
    "    assert len(state) == 3 and state[0] < 5 and state[1] < 4 and state[2] < 3 and action < 3\n",
    "    if state[0] == 0:\n",
    "        return 0.0\n",
    "    if state[0] == 1 and action == 0:\n",
    "        return -10.0\n",
    "    return -20.0 # Penalty = 20 due to Team Number = 9"
   ]
  },
  {
   "cell_type": "code",
   "execution_count": 6,
   "metadata": {},
   "outputs": [],
   "source": [
    "def check_convergence(old_table: np.ndarray, new_table: np.ndarray, delta: int = 0.001) -> bool:\n",
    "    \"\"\"\n",
    "    Checks if the value iteration algorithm has converged\n",
    "    \"\"\"\n",
    "    assert old_table.shape == new_table.shape\n",
    "    ans = np.max(np.abs(new_table - old_table)) < delta\n",
    "    return ans"
   ]
  },
  {
   "cell_type": "code",
   "execution_count": 7,
   "metadata": {},
   "outputs": [],
   "source": [
    "def random_initialize():\n",
    "    \"\"\"\n",
    "    Randomly assigns values to the v_table and the p_table\n",
    "    \"\"\"\n",
    "    global v_table, q_table, p_table\n",
    "    v_table = np.random.random(size=v_table.shape)\n",
    "    q_table = np.zeros(shape=q_table.shape)\n",
    "    p_table = np.random.choice(range(len(ACTIONS)), size=p_table.shape)"
   ]
  },
  {
   "cell_type": "code",
   "execution_count": 8,
   "metadata": {},
   "outputs": [],
   "source": [
    "def print_state(iteration: int, v_table: np.ndarray, p_table: np.ndarray, filename = None):\n",
    "    \"\"\"\n",
    "    Prints the entire state in the Value Iteration Algorithm\n",
    "    \"\"\"\n",
    "    assert len(v_table.shape) == len(p_table.shape) == 3\n",
    "    if filename == None:\n",
    "        print(\"iteration=\", iteration)\n",
    "        for h, a, s in STATES:\n",
    "            print(\"({0},{1},{2}):{3}=[{4:.3f}]\".format(\n",
    "                h, a, s, \n",
    "                ACTIONS[p_table[h][a][s]] if h != 0 else '-1', v_table[h][a][s]))\n",
    "        print(\"\\n\\n\")\n",
    "    else:\n",
    "        with open(filename, 'a') as f:\n",
    "            f.write(\"iteration={}\\n\".format(iteration))\n",
    "            for h, a, s in STATES:\n",
    "                f.write(\"({0},{1},{2}):{3}=[{4:.3f}]\\n\".format(\n",
    "                    h, a, s, \n",
    "                    ACTIONS[p_table[h][a][s]] if h != 0 else '-1', v_table[h][a][s]))\n",
    "            f.write(\"\\n\\n\")"
   ]
  },
  {
   "cell_type": "markdown",
   "metadata": {},
   "source": [
    "## The Value Iteration Algorithm"
   ]
  },
  {
   "cell_type": "markdown",
   "metadata": {},
   "source": [
    "```\n",
    "Procedure Value_Iteration(S, A, P, R, θ)\n",
    "    Inputs:\n",
    "        S is the set of all states\n",
    "        A is the set of all actions\n",
    "        P is state transition function specifying P(s'|s,a)\n",
    "        R is a reward function R(s,a,s')\n",
    "        θ a threshold, θ > 0$\n",
    "    Output:\n",
    "        π[S] approximately optimal policy\n",
    "        V[S] value function\n",
    "    Local:\n",
    "        real array Vk[S] is a sequence of value functions\n",
    "        action array π[S]\n",
    "        \n",
    "    assign V0[S] arbitrarily\n",
    "    k ← 0\n",
    "    repeat\n",
    "       k ← k+1\n",
    "       for each state s do\n",
    "           Vk[s] = maxa ∑s' P(s'|s,a) (R(s,a,s')+ γVk-1[s'])\n",
    "    until ∀s |Vk[s]-Vk-1[s]| < θ\n",
    "    for each state s do\n",
    "       π[s] = argmaxa ∑s' P(s'|s,a) (R(s,a,s')+ γVk[s'])\n",
    "    return π,Vk\n",
    "```"
   ]
  },
  {
   "cell_type": "code",
   "execution_count": 9,
   "metadata": {},
   "outputs": [],
   "source": [
    "history_delta = []\n",
    "\n",
    "def value_iteration(gamma = 0.99):\n",
    "    \"\"\"\n",
    "    Computes the Optimal Policy and the State Values\n",
    "    \"\"\"\n",
    "    global v_table, p_table, q_table\n",
    "    random_initialize()\n",
    "    converged = False\n",
    "    for iteration in range(1, 1000):\n",
    "        for h, a, s in STATES:\n",
    "            for act in range(len(ACTIONS)):\n",
    "                q_table[h, a, s, act] = gamma * get_next_utility((h, a, s), act) \\\n",
    "                                              + get_action_cost((h, a, s), act)\n",
    "        new_v_table = np.max(q_table, axis=3)\n",
    "        p_table = np.argmax(q_table, axis=3)\n",
    "        converged = check_convergence(v_table, new_v_table)\n",
    "        history_delta.append(np.max(np.abs(new_v_table - v_table)))\n",
    "        v_table = new_v_table\n",
    "        print_state(iteration, v_table, p_table, 'task_1_trace.txt')\n",
    "        if converged:\n",
    "            break"
   ]
  },
  {
   "cell_type": "code",
   "execution_count": 10,
   "metadata": {},
   "outputs": [],
   "source": [
    "value_iteration()"
   ]
  },
  {
   "cell_type": "markdown",
   "metadata": {},
   "source": [
    "## Checking our Answers"
   ]
  },
  {
   "cell_type": "code",
   "execution_count": 11,
   "metadata": {},
   "outputs": [
    {
     "data": {
      "image/png": "[encoded data removed]",
      "text/plain": [
       "<Figure size 432x288 with 1 Axes>"
      ]
     },
     "metadata": {
      "needs_background": "light"
     },
     "output_type": "display_data"
    }
   ],
   "source": [
    "plt.plot(history_delta)\n",
    "plt.xlabel('Iteration')\n",
    "plt.ylabel('Delta')\n",
    "plt.show()"
   ]
  },
  {
   "cell_type": "code",
   "execution_count": 12,
   "metadata": {},
   "outputs": [
    {
     "data": {
      "image/png": "[encoded data removed]",
      "text/plain": [
       "<Figure size 1080x288 with 6 Axes>"
      ]
     },
     "metadata": {
      "needs_background": "light"
     },
     "output_type": "display_data"
    }
   ],
   "source": [
    "fig, ax = plt.subplots(1, 3, figsize=(15, 4))\n",
    "sns.heatmap(v_table[:, :, 0], ax=ax[0])\n",
    "ax[0].set_title('Stamina = 0')\n",
    "ax[0].set_xlabel('Arrows')\n",
    "ax[0].set_ylabel('Health')\n",
    "sns.heatmap(v_table[:, :, 1], ax=ax[1])\n",
    "ax[1].set_title('Stamina = 1')\n",
    "ax[1].set_xlabel('Arrows')\n",
    "ax[1].set_ylabel('Health')\n",
    "sns.heatmap(v_table[:, :, 2], ax=ax[2])\n",
    "ax[2].set_title('Stamina = 2')\n",
    "ax[2].set_xlabel('Arrows')\n",
    "ax[2].set_ylabel('Health')\n",
    "plt.show()"
   ]
  },
  {
   "cell_type": "code",
   "execution_count": 13,
   "metadata": {
    "scrolled": true
   },
   "outputs": [
    {
     "data": {
      "image/png": "[encoded data removed]",
      "text/plain": [
       "<Figure size 720x720 with 8 Axes>"
      ]
     },
     "metadata": {
      "needs_background": "light"
     },
     "output_type": "display_data"
    }
   ],
   "source": [
    "fig, ax = plt.subplots(2, 2, figsize=(10, 10))\n",
    "sns.heatmap(v_table[:, 0, :], ax=ax[0][0])\n",
    "ax[0][0].set_title('Arrows = 0')\n",
    "ax[0][0].set_xlabel('Stamina')\n",
    "ax[0][0].set_ylabel('Health')\n",
    "sns.heatmap(v_table[:, 1, :], ax=ax[0][1])\n",
    "ax[0][1].set_title('Arrows = 1')\n",
    "ax[0][1].set_xlabel('Stamina')\n",
    "ax[0][1].set_ylabel('Health')\n",
    "sns.heatmap(v_table[:, 2, :], ax=ax[1][0])\n",
    "ax[1][0].set_title('Arrows = 2')\n",
    "ax[1][0].set_xlabel('Stamina')\n",
    "ax[1][0].set_ylabel('Health')\n",
    "sns.heatmap(v_table[:, 3, :], ax=ax[1][1])\n",
    "ax[1][1].set_title('Arrows = 3')\n",
    "ax[1][1].set_xlabel('Stamina')\n",
    "ax[1][1].set_ylabel('Health')\n",
    "\n",
    "plt.show()"
   ]
  },
  {
   "cell_type": "markdown",
   "metadata": {},
   "source": [
    "## Final Observations"
   ]
  },
  {
   "cell_type": "markdown",
   "metadata": {},
   "source": [
    "The graphs and the policy are reasonably obvious, it's better to have more stamina and arrows, and that the Dragon has less health. The actions (shown below) are quite close to the obvious greedy policy (e.g. things like - shoot if you have arrows and dragon is close to dying, dodge if you need arrows or if you have lesser stamina and the dragon is still not close to dying and recharge definitely when you have 0 stamina) since the value function of the game is very smooth."
   ]
  },
  {
   "cell_type": "markdown",
   "metadata": {},
   "source": [
    "**Converged Policy Output**\n",
    "```\n",
    "iteration=127\n",
    "(0,0,0):-1=[-10.1]\n",
    "(0,0,50):-1=[-10.1]\n",
    "(0,0,100):-1=[-10.1]\n",
    "(0,1,0):-1=[-10.1]\n",
    "(0,1,50):-1=[-10.1]\n",
    "(0,1,100):-1=[-10.1]\n",
    "(0,2,0):-1=[-10.1]\n",
    "(0,2,50):-1=[-10.1]\n",
    "(0,2,100):-1=[-10.1]\n",
    "(0,3,0):-1=[-10.1]\n",
    "(0,3,50):-1=[-10.1]\n",
    "(0,3,100):-1=[-10.1]\n",
    "(25,0,0):RECHARGE=[-197.80329653269874]\n",
    "(25,0,50):DODGE=[-175.04828814499285]\n",
    "(25,0,100):DODGE=[-156.61443280396625]\n",
    "(25,1,0):RECHARGE=[-146.3172168717831]\n",
    "(25,1,50):SHOOT=[-122.91213156017636]\n",
    "(25,1,100):SHOOT=[-111.64840244289262]\n",
    "(25,2,0):RECHARGE=[-121.14938329703581]\n",
    "(25,2,50):SHOOT=[-97.42652220057643]\n",
    "(25,2,100):SHOOT=[-85.84100499472032]\n",
    "(25,3,0):RECHARGE=[-108.84664342440708]\n",
    "(25,3,50):SHOOT=[-84.96844463007834]\n",
    "(25,3,100):SHOOT=[-73.2256284031278]\n",
    "(50,0,0):RECHARGE=[-367.80084708012004]\n",
    "(50,0,50):DODGE=[-347.19228370542635]\n",
    "(50,0,100):DODGE=[-330.49726431725657]\n",
    "(50,1,0):RECHARGE=[-321.1713686265407]\n",
    "(50,1,50):SHOOT=[-299.9740455771815]\n",
    "(50,1,100):SHOOT=[-278.50907836371636]\n",
    "(50,2,0):RECHARGE=[-273.2097476013766]\n",
    "(50,2,50):SHOOT=[-251.40684601221662]\n",
    "(50,2,100):SHOOT=[-229.3286544333982]\n",
    "(50,3,0):RECHARGE=[-237.46203055786495]\n",
    "(50,3,50):SHOOT=[-215.20776716290675]\n",
    "(50,3,100):SHOOT=[-192.67251502078105]\n",
    "(75,0,0):RECHARGE=[-521.7621076294488]\n",
    "(75,0,50):DODGE=[-503.0976236115297]\n",
    "(75,0,100):DODGE=[-487.97749128869464]\n",
    "(75,1,0):RECHARGE=[-479.531337203506]\n",
    "(75,1,50):RECHARGE=[-460.33359684939774]\n",
    "(75,1,100):SHOOT=[-440.8934474811311]\n",
    "(75,2,0):RECHARGE=[-436.09401239260404]\n",
    "(75,2,50):SHOOT=[-416.3477928607481]\n",
    "(75,2,100):SHOOT=[-396.35224292859215]\n",
    "(75,3,0):RECHARGE=[-391.41568804562826]\n",
    "(75,3,50):SHOOT=[-371.10532830142506]\n",
    "(75,3,100):SHOOT=[-350.5385179208816]\n",
    "(100,0,0):RECHARGE=[-661.1950895542045]\n",
    "(100,0,50):DODGE=[-644.2919952417491]\n",
    "(100,0,100):DODGE=[-630.5986777341094]\n",
    "(100,1,0):RECHARGE=[-622.9495747790854]\n",
    "(100,1,50):RECHARGE=[-605.5633072516731]\n",
    "(100,1,100):SHOOT=[-587.9574214268649]\n",
    "(100,2,0):RECHARGE=[-583.6108545450119]\n",
    "(100,2,50):DODGE=[-565.7276849703808]\n",
    "(100,2,100):SHOOT=[-547.6186487465244]\n",
    "(100,3,0):RECHARGE=[-543.1478563528666]\n",
    "(100,3,50):SHOOT=[-524.7536438205741]\n",
    "(100,3,100):SHOOT=[-506.1271308808664]\n",
    "```"
   ]
  }
 ],
 "metadata": {
  "kernelspec": {
   "display_name": "Python 3.6.8 64-bit",
   "language": "python",
   "name": "python36864bit936fdc4f78e4464fb8d307b432d40f4d"
  },
  "language_info": {
   "codemirror_mode": {
    "name": "ipython",
    "version": 3
   },
   "file_extension": ".py",
   "mimetype": "text/x-python",
   "name": "python",
   "nbconvert_exporter": "python",
   "pygments_lexer": "ipython3",
   "version": "3.6.8"
  }
 },
 "nbformat": 4,
 "nbformat_minor": 2
}
