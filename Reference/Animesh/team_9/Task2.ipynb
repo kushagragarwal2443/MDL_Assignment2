{
 "cells": [
  {
   "cell_type": "code",
   "execution_count": 1,
   "metadata": {},
   "outputs": [],
   "source": [
    "import numpy as np\n",
    "import pandas as pd\n",
    "from matplotlib import pyplot as plt\n",
    "import seaborn as sns"
   ]
  },
  {
   "cell_type": "markdown",
   "metadata": {},
   "source": [
    "## The Markov Decision Process"
   ]
  },
  {
   "cell_type": "code",
   "execution_count": 2,
   "metadata": {},
   "outputs": [],
   "source": [
    "ACTIONS = [\"SHOOT\", \"DODGE\", \"RECHARGE\"]\n",
    "STAMINA = [0, 50, 100]\n",
    "ARROWS = [0, 1, 2, 3]\n",
    "DRAGON_HEALTH = [0, 25, 50, 75, 100]\n",
    "\n",
    "v_table = np.zeros(shape=(5, 4, 3)) # (arrows, stamina, health)\n",
    "p_table = np.zeros(shape=(5, 4, 3))\n",
    "q_table = np.zeros(shape=(5, 4, 3, len(ACTIONS)))"
   ]
  },
  {
   "cell_type": "code",
   "execution_count": 3,
   "metadata": {},
   "outputs": [],
   "source": [
    "STATES = [(h, a, s) for h in range(v_table.shape[0]) \n",
    "                    for a in range(v_table.shape[1]) \n",
    "                    for s in range(v_table.shape[2])]"
   ]
  },
  {
   "cell_type": "code",
   "execution_count": 4,
   "metadata": {},
   "outputs": [],
   "source": [
    "INFINTIY = 1e16\n",
    "\n",
    "def get_next_utility(state: tuple, action: int) -> float:\n",
    "    \"\"\"\n",
    "    Computes the utility of the next state\n",
    "    \"\"\"\n",
    "    assert len(state) == 3 and state[0] < 5 and state[1] < 4 and state[2] < 3 and action < 3\n",
    "    dragon_health, arrows, stamina = state\n",
    "    if dragon_health == 0:\n",
    "        return 0.0\n",
    "    if ACTIONS[action] == \"SHOOT\":\n",
    "        if arrows == 0 or stamina == 0:\n",
    "            return -INFINTIY\n",
    "        return 0.5 * v_table[dragon_health, arrows - 1, stamina - 1] + \\\n",
    "               0.5 * v_table[dragon_health - 1, arrows - 1, stamina - 1]\n",
    "    elif ACTIONS[action] == \"DODGE\":\n",
    "        if stamina == 0:\n",
    "            return -INFINTIY\n",
    "        elif stamina == 1:\n",
    "            return 0.8 * v_table[dragon_health, min(arrows + 1, 3), 0] + \\\n",
    "                   0.2 * v_table[dragon_health, arrows, 0]\n",
    "        elif stamina == 2:\n",
    "            return 0.8 * 0.8 * v_table[dragon_health, min(arrows + 1, 3), 1] + \\\n",
    "                   0.2 * 0.8 * v_table[dragon_health, arrows, 1] + \\\n",
    "                   0.8 * 0.2 * v_table[dragon_health, min(arrows + 1, 3), 0] + \\\n",
    "                   0.2 * 0.2 * v_table[dragon_health, arrows, 0]\n",
    "    elif ACTIONS[action] == \"RECHARGE\":\n",
    "        return 0.8 * v_table[dragon_health, arrows, min(stamina + 1, 2)] + \\\n",
    "               0.2 * v_table[dragon_health, arrows, stamina]"
   ]
  },
  {
   "cell_type": "code",
   "execution_count": 5,
   "metadata": {},
   "outputs": [],
   "source": [
    "def check_convergence(old_table: np.ndarray, new_table: np.ndarray, delta: float = 0.001) -> bool:\n",
    "    \"\"\"\n",
    "    Checks if the value iteration algorithm has converged\n",
    "    \"\"\"\n",
    "    assert old_table.shape == new_table.shape\n",
    "    ans = np.max(np.abs(new_table - old_table)) < delta\n",
    "    return ans"
   ]
  },
  {
   "cell_type": "code",
   "execution_count": 6,
   "metadata": {},
   "outputs": [],
   "source": [
    "def random_initialize():\n",
    "    \"\"\"\n",
    "    Randomly assigns values to the v_table and the p_table\n",
    "    \"\"\"\n",
    "    global v_table, q_table, p_table\n",
    "    v_table = np.zeros(shape=v_table.shape)\n",
    "    q_table = np.zeros(shape=q_table.shape)\n",
    "    p_table = np.random.choice(range(len(ACTIONS)), size=p_table.shape)"
   ]
  },
  {
   "cell_type": "code",
   "execution_count": 7,
   "metadata": {},
   "outputs": [],
   "source": [
    "def print_state(iteration: int, v_table: np.ndarray, p_table: np.ndarray, filename = None):\n",
    "    \"\"\"\n",
    "    Prints the entire state in the Value Iteration Algorithm\n",
    "    \"\"\"\n",
    "    assert len(v_table.shape) == len(p_table.shape) == 3\n",
    "    if filename == None:\n",
    "        print(\"iteration=\", iteration)\n",
    "        for h, a, s in STATES:\n",
    "            print(\"({0},{1},{2}):{3}=[{4:.3f}]\".format(\n",
    "                h, a, s, \n",
    "                ACTIONS[p_table[h][a][s]] if h != 0 else '-1', v_table[h][a][s]))\n",
    "        print(\"\\n\\n\")\n",
    "    else:\n",
    "        with open(filename, 'a') as f:\n",
    "            f.write(\"iteration={}\\n\".format(iteration))\n",
    "            for h, a, s in STATES:\n",
    "                f.write(\"({0},{1},{2}):{3}=[{4:.3f}]\\n\".format(\n",
    "                    h, a, s, \n",
    "                    ACTIONS[p_table[h][a][s]] if h != 0 else '-1', v_table[h][a][s]))\n",
    "            f.write(\"\\n\\n\")"
   ]
  },
  {
   "cell_type": "markdown",
   "metadata": {},
   "source": [
    "## The Value Iteration Algorithm"
   ]
  },
  {
   "cell_type": "markdown",
   "metadata": {},
   "source": [
    "```\n",
    "Procedure Value_Iteration(S, A, P, R, θ)\n",
    "    Inputs:\n",
    "        S is the set of all states\n",
    "        A is the set of all actions\n",
    "        P is state transition function specifying P(s'|s,a)\n",
    "        R is a reward function R(s,a,s')\n",
    "        θ a threshold, θ > 0$\n",
    "    Output:\n",
    "        π[S] approximately optimal policy\n",
    "        V[S] value function\n",
    "    Local:\n",
    "        real array Vk[S] is a sequence of value functions\n",
    "        action array π[S]\n",
    "        \n",
    "    assign V0[S] arbitrarily\n",
    "    k ← 0\n",
    "    repeat\n",
    "       k ← k+1\n",
    "       for each state s do\n",
    "           Vk[s] = maxa ∑s' P(s'|s,a) (R(s,a,s')+ γVk-1[s'])\n",
    "    until ∀s |Vk[s]-Vk-1[s]| < θ\n",
    "    for each state s do\n",
    "       π[s] = argmaxa ∑s' P(s'|s,a) (R(s,a,s')+ γVk[s'])\n",
    "    return π,Vk\n",
    "```"
   ]
  },
  {
   "cell_type": "code",
   "execution_count": 8,
   "metadata": {},
   "outputs": [],
   "source": [
    "def value_iteration(get_action_cost, gamma: float = 0.99, delta: float = 0.001, filename = None):\n",
    "    \"\"\"\n",
    "    Computes the Optimal Policy and the State Values\n",
    "    :return history_delta: (list<float>) The change in function over the history\n",
    "    \"\"\"\n",
    "    history_delta = []\n",
    "    global v_table, p_table, q_table\n",
    "    random_initialize()\n",
    "    converged = False\n",
    "    for iteration in range(1, 1000):\n",
    "        for h, a, s in STATES:\n",
    "            for act in range(len(ACTIONS)):\n",
    "                q_table[h, a, s, act] = gamma * get_next_utility((h, a, s), act) \\\n",
    "                                              + get_action_cost((h, a, s), act)\n",
    "        new_v_table = np.max(q_table, axis=3)\n",
    "        p_table = np.argmax(q_table, axis=3)\n",
    "        converged = check_convergence(v_table, new_v_table, delta)\n",
    "        history_delta.append(np.max(np.abs(new_v_table - v_table)))\n",
    "        v_table = new_v_table\n",
    "        print_state(iteration, v_table, p_table, filename)\n",
    "        if converged:\n",
    "            break\n",
    "    return history_delta.copy()"
   ]
  },
  {
   "cell_type": "code",
   "execution_count": 9,
   "metadata": {},
   "outputs": [],
   "source": [
    "def get_action_cost_subtask1(state: tuple, action: int) -> float:\n",
    "    \"\"\"\n",
    "    Returns the reward associated with each action taken\n",
    "    \"\"\"\n",
    "    assert len(state) == 3 and state[0] < 5 and state[1] < 4 and state[2] < 3 and action < 3\n",
    "    if state[0] == 0:\n",
    "        return 0.0\n",
    "    elif state[0] == 1 and action == 0:\n",
    "        return (-2.5 if ACTIONS[action] != \"SHOOT\" else -0.25) + 10.0 * 0.5\n",
    "    else:\n",
    "        return -2.5 if ACTIONS[action] != \"SHOOT\" else -0.25\n",
    "     \n",
    "def get_action_cost_general(state: tuple, action: int) -> float:\n",
    "    \"\"\"\n",
    "    Returns the reward associated with each action taken\n",
    "    \"\"\"\n",
    "    assert len(state) == 3 and state[0] < 5 and state[1] < 4 and state[2] < 3 and action < 3\n",
    "    if state[0] == 0:\n",
    "        return 0.0\n",
    "    elif state[0] == 1 and action == 0:\n",
    "        return -2.5 + 10.0 * 0.5\n",
    "    else:\n",
    "        return -2.5"
   ]
  },
  {
   "cell_type": "code",
   "execution_count": 10,
   "metadata": {},
   "outputs": [],
   "source": [
    "history_delta_1 = value_iteration(get_action_cost=get_action_cost_subtask1, filename='outputs/task_2_part_1_trace.txt')\n",
    "v_table_1 = v_table.copy()\n",
    "p_table_1 = p_table.copy()"
   ]
  },
  {
   "cell_type": "code",
   "execution_count": 11,
   "metadata": {},
   "outputs": [],
   "source": [
    "history_delta_2 = value_iteration(get_action_cost=get_action_cost_general, gamma=0.1, filename='outputs/task_2_part_2_trace.txt')\n",
    "v_table_2 = v_table.copy()\n",
    "p_table_2 = p_table.copy()"
   ]
  },
  {
   "cell_type": "code",
   "execution_count": 12,
   "metadata": {},
   "outputs": [],
   "source": [
    "history_delta_3 = value_iteration(get_action_cost=get_action_cost_general, gamma=0.1, delta=1e-10, filename='outputs/task_2_part_3_trace.txt')\n",
    "v_table_3 = v_table.copy()\n",
    "p_table_3 = p_table.copy()"
   ]
  },
  {
   "cell_type": "markdown",
   "metadata": {},
   "source": [
    "## Checking our Answers"
   ]
  },
  {
   "cell_type": "code",
   "execution_count": 13,
   "metadata": {},
   "outputs": [
    {
     "data": {
      "image/png": "[encoded data removed]",
      "text/plain": [
       "<Figure size 1080x360 with 3 Axes>"
      ]
     },
     "metadata": {
      "needs_background": "light"
     },
     "output_type": "display_data"
    }
   ],
   "source": [
    "fig, ax = plt.subplots(1, 3, figsize=(15, 5))\n",
    "ax[0].plot(history_delta_1, color='red')\n",
    "ax[0].set_xlabel('Iteration')\n",
    "ax[0].set_ylabel('Delta')\n",
    "ax[0].set_title('Subtask 1')\n",
    "ax[1].plot(history_delta_2, color='green')\n",
    "ax[1].set_xlabel('Iteration')\n",
    "ax[1].set_ylabel('Delta')\n",
    "ax[1].set_title('Subtask 2')\n",
    "ax[2].plot(history_delta_3, color='blue')\n",
    "ax[2].set_xlabel('Iteration')\n",
    "ax[2].set_ylabel('Delta')\n",
    "ax[2].set_title('Subtask 3')\n",
    "plt.show()"
   ]
  },
  {
   "cell_type": "code",
   "execution_count": 14,
   "metadata": {},
   "outputs": [
    {
     "data": {
      "image/png": "[encoded data removed]",
      "text/plain": [
       "<Figure size 1080x288 with 6 Axes>"
      ]
     },
     "metadata": {
      "needs_background": "light"
     },
     "output_type": "display_data"
    }
   ],
   "source": [
    "fig, ax = plt.subplots(1, 3, figsize=(15, 4))\n",
    "sns.heatmap(v_table_1[:, :, 0], ax=ax[0])\n",
    "ax[0].set_title('Stamina = 0')\n",
    "ax[0].set_xlabel('Arrows')\n",
    "ax[0].set_ylabel('Health')\n",
    "sns.heatmap(v_table_1[:, :, 1], ax=ax[1])\n",
    "ax[1].set_title('Stamina = 1')\n",
    "ax[1].set_xlabel('Arrows')\n",
    "ax[1].set_ylabel('Health')\n",
    "sns.heatmap(v_table_1[:, :, 2], ax=ax[2])\n",
    "ax[2].set_title('Stamina = 2')\n",
    "ax[2].set_xlabel('Arrows')\n",
    "ax[2].set_ylabel('Health')\n",
    "plt.show()"
   ]
  },
  {
   "cell_type": "code",
   "execution_count": 15,
   "metadata": {},
   "outputs": [
    {
     "data": {
      "image/png": "[encoded data removed]",
      "text/plain": [
       "<Figure size 720x720 with 8 Axes>"
      ]
     },
     "metadata": {
      "needs_background": "light"
     },
     "output_type": "display_data"
    }
   ],
   "source": [
    "fig, ax = plt.subplots(2, 2, figsize=(10, 10))\n",
    "sns.heatmap(v_table_1[:, 0, :], ax=ax[0][0])\n",
    "ax[0][0].set_title('Arrows = 0')\n",
    "ax[0][0].set_xlabel('Stamina')\n",
    "ax[0][0].set_ylabel('Health')\n",
    "sns.heatmap(v_table_1[:, 1, :], ax=ax[0][1])\n",
    "ax[0][1].set_title('Arrows = 1')\n",
    "ax[0][1].set_xlabel('Stamina')\n",
    "ax[0][1].set_ylabel('Health')\n",
    "sns.heatmap(v_table_1[:, 2, :], ax=ax[1][0])\n",
    "ax[1][0].set_title('Arrows = 2')\n",
    "ax[1][0].set_xlabel('Stamina')\n",
    "ax[1][0].set_ylabel('Health')\n",
    "sns.heatmap(v_table_1[:, 3, :], ax=ax[1][1])\n",
    "ax[1][1].set_title('Arrows = 3')\n",
    "ax[1][1].set_xlabel('Stamina')\n",
    "ax[1][1].set_ylabel('Health')\n",
    "\n",
    "plt.show()"
   ]
  },
  {
   "cell_type": "code",
   "execution_count": 16,
   "metadata": {},
   "outputs": [
    {
     "data": {
      "image/png": "[encoded data removed]",
      "text/plain": [
       "<Figure size 1080x288 with 6 Axes>"
      ]
     },
     "metadata": {
      "needs_background": "light"
     },
     "output_type": "display_data"
    }
   ],
   "source": [
    "fig, ax = plt.subplots(1, 3, figsize=(15, 4))\n",
    "sns.heatmap(v_table_2[:, :, 0], ax=ax[0])\n",
    "ax[0].set_title('Stamina = 0')\n",
    "ax[0].set_xlabel('Arrows')\n",
    "ax[0].set_ylabel('Health')\n",
    "sns.heatmap(v_table_2[:, :, 1], ax=ax[1])\n",
    "ax[1].set_title('Stamina = 1')\n",
    "ax[1].set_xlabel('Arrows')\n",
    "ax[1].set_ylabel('Health')\n",
    "sns.heatmap(v_table_2[:, :, 2], ax=ax[2])\n",
    "ax[2].set_title('Stamina = 2')\n",
    "ax[2].set_xlabel('Arrows')\n",
    "ax[2].set_ylabel('Health')\n",
    "plt.show()"
   ]
  },
  {
   "cell_type": "code",
   "execution_count": 17,
   "metadata": {},
   "outputs": [
    {
     "data": {
      "image/png": "[encoded data removed]",
      "text/plain": [
       "<Figure size 720x720 with 8 Axes>"
      ]
     },
     "metadata": {
      "needs_background": "light"
     },
     "output_type": "display_data"
    }
   ],
   "source": [
    "fig, ax = plt.subplots(2, 2, figsize=(10, 10))\n",
    "sns.heatmap(v_table_2[:, 0, :], ax=ax[0][0])\n",
    "ax[0][0].set_title('Arrows = 0')\n",
    "ax[0][0].set_xlabel('Stamina')\n",
    "ax[0][0].set_ylabel('Health')\n",
    "sns.heatmap(v_table_2[:, 1, :], ax=ax[0][1])\n",
    "ax[0][1].set_title('Arrows = 1')\n",
    "ax[0][1].set_xlabel('Stamina')\n",
    "ax[0][1].set_ylabel('Health')\n",
    "sns.heatmap(v_table_2[:, 2, :], ax=ax[1][0])\n",
    "ax[1][0].set_title('Arrows = 2')\n",
    "ax[1][0].set_xlabel('Stamina')\n",
    "ax[1][0].set_ylabel('Health')\n",
    "sns.heatmap(v_table_2[:, 3, :], ax=ax[1][1])\n",
    "ax[1][1].set_title('Arrows = 3')\n",
    "ax[1][1].set_xlabel('Stamina')\n",
    "ax[1][1].set_ylabel('Health')\n",
    "\n",
    "plt.show()"
   ]
  },
  {
   "cell_type": "code",
   "execution_count": 18,
   "metadata": {},
   "outputs": [
    {
     "data": {
      "image/png": "[encoded data removed]",
      "text/plain": [
       "<Figure size 1080x288 with 6 Axes>"
      ]
     },
     "metadata": {
      "needs_background": "light"
     },
     "output_type": "display_data"
    }
   ],
   "source": [
    "fig, ax = plt.subplots(1, 3, figsize=(15, 4))\n",
    "sns.heatmap(v_table_3[:, :, 0], ax=ax[0])\n",
    "ax[0].set_title('Stamina = 0')\n",
    "ax[0].set_xlabel('Arrows')\n",
    "ax[0].set_ylabel('Health')\n",
    "sns.heatmap(v_table_3[:, :, 1], ax=ax[1])\n",
    "ax[1].set_title('Stamina = 1')\n",
    "ax[1].set_xlabel('Arrows')\n",
    "ax[1].set_ylabel('Health')\n",
    "sns.heatmap(v_table_3[:, :, 2], ax=ax[2])\n",
    "ax[2].set_title('Stamina = 2')\n",
    "ax[2].set_xlabel('Arrows')\n",
    "ax[2].set_ylabel('Health')\n",
    "plt.show()"
   ]
  },
  {
   "cell_type": "code",
   "execution_count": 19,
   "metadata": {},
   "outputs": [
    {
     "data": {
      "image/png": "[encoded data removed]",
      "text/plain": [
       "<Figure size 720x720 with 8 Axes>"
      ]
     },
     "metadata": {
      "needs_background": "light"
     },
     "output_type": "display_data"
    }
   ],
   "source": [
    "fig, ax = plt.subplots(2, 2, figsize=(10, 10))\n",
    "sns.heatmap(v_table_3[:, 0, :], ax=ax[0][0])\n",
    "ax[0][0].set_title('Arrows = 0')\n",
    "ax[0][0].set_xlabel('Stamina')\n",
    "ax[0][0].set_ylabel('Health')\n",
    "sns.heatmap(v_table_3[:, 1, :], ax=ax[0][1])\n",
    "ax[0][1].set_title('Arrows = 1')\n",
    "ax[0][1].set_xlabel('Stamina')\n",
    "ax[0][1].set_ylabel('Health')\n",
    "sns.heatmap(v_table_3[:, 2, :], ax=ax[1][0])\n",
    "ax[1][0].set_title('Arrows = 2')\n",
    "ax[1][0].set_xlabel('Stamina')\n",
    "ax[1][0].set_ylabel('Health')\n",
    "sns.heatmap(v_table_3[:, 3, :], ax=ax[1][1])\n",
    "ax[1][1].set_title('Arrows = 3')\n",
    "ax[1][1].set_xlabel('Stamina')\n",
    "ax[1][1].set_ylabel('Health')\n",
    "\n",
    "plt.show()"
   ]
  },
  {
   "cell_type": "markdown",
   "metadata": {},
   "source": [
    "## Final Observations"
   ]
  },
  {
   "cell_type": "markdown",
   "metadata": {},
   "source": [
    "### Subtask 1: New Step Rewards\n",
    "\n",
    "The Convergence of this function is much faster than was before (in task 1), the lowered step costs and the favored shoot action allows the model to learn the kill technique much faster, which it later slowly changes to better action combinations involving dodge and recharge, improving the score further. There is more incentive to be greedy and shoot at the beginning.\n",
    "\n",
    "### Subtask 2: The High Future Discount\n",
    "\n",
    "The huge discount factor **kills the incentive** to look and try to get the big reward (killing the dragon) in the future. The agent will only look 1 move deep and *only try if the dragon has health 25 and it has both arrows and stamina*, otherwise it will give up. All moves / futures look relatively equal. \n",
    "\n",
    "### Subtask 3: Complete Convergence\n",
    "\n",
    "This change has no effect as compared to Subtask 2, since the agent has already almost completely discounted the future. The policy will not change as we hone down more on the utility values as the agent himself does not value anything in the future, changing convergence ($\\delta$) to $10^-3$ to $10^-10$ are both almost equally good. It just takes a few more iterations to get there. "
   ]
  },
  {
   "cell_type": "markdown",
   "metadata": {},
   "source": [
    "**Results of Part 1**\n",
    "```\n",
    "iteration=100\n",
    "(0,0,0):-1=[0.000]\n",
    "(0,0,1):-1=[0.000]\n",
    "(0,0,2):-1=[0.000]\n",
    "(0,1,0):-1=[0.000]\n",
    "(0,1,1):-1=[0.000]\n",
    "(0,1,2):-1=[0.000]\n",
    "(0,2,0):-1=[0.000]\n",
    "(0,2,1):-1=[0.000]\n",
    "(0,2,2):-1=[0.000]\n",
    "(0,3,0):-1=[0.000]\n",
    "(0,3,1):-1=[0.000]\n",
    "(0,3,2):-1=[0.000]\n",
    "(1,0,0):RECHARGE=[-10.317]\n",
    "(1,0,1):DODGE=[-7.291]\n",
    "(1,0,2):DODGE=[-4.839]\n",
    "(1,1,0):RECHARGE=[-3.470]\n",
    "(1,1,1):SHOOT=[-0.357]\n",
    "(1,1,2):SHOOT=[1.141]\n",
    "(1,2,0):RECHARGE=[-0.123]\n",
    "(1,2,1):SHOOT=[3.032]\n",
    "(1,2,2):SHOOT=[4.573]\n",
    "(1,3,0):RECHARGE=[1.514]\n",
    "(1,3,1):SHOOT=[4.689]\n",
    "(1,3,2):SHOOT=[6.251]\n",
    "(2,0,0):RECHARGE=[-28.809]\n",
    "(2,0,1):DODGE=[-26.016]\n",
    "(2,0,2):DODGE=[-23.754]\n",
    "(2,1,0):RECHARGE=[-22.490]\n",
    "(2,1,1):SHOOT=[-19.617]\n",
    "(2,1,2):SHOOT=[-16.737]\n",
    "(2,2,0):RECHARGE=[-16.054]\n",
    "(2,2,1):SHOOT=[-13.100]\n",
    "(2,2,2):SHOOT=[-10.137]\n",
    "(2,3,0):RECHARGE=[-11.272]\n",
    "(2,3,1):SHOOT=[-8.257]\n",
    "(2,3,2):SHOOT=[-5.233]\n",
    "(3,0,0):RECHARGE=[-45.556]\n",
    "(3,0,1):DODGE=[-42.975]\n",
    "(3,0,2):DODGE=[-40.884]\n",
    "(3,1,0):RECHARGE=[-39.716]\n",
    "(3,1,1):SHOOT=[-37.061]\n",
    "(3,1,2):SHOOT=[-34.400]\n",
    "(3,2,0):RECHARGE=[-33.772]\n",
    "(3,2,1):SHOOT=[-31.042]\n",
    "(3,2,2):SHOOT=[-28.306]\n",
    "(3,3,0):RECHARGE=[-27.720]\n",
    "(3,3,1):SHOOT=[-24.914]\n",
    "(3,3,2):SHOOT=[-22.100]\n",
    "(4,0,0):RECHARGE=[-60.717]\n",
    "(4,0,1):DODGE=[-58.328]\n",
    "(4,0,2):DODGE=[-56.393]\n",
    "(4,1,0):RECHARGE=[-55.312]\n",
    "(4,1,1):SHOOT=[-52.855]\n",
    "(4,1,2):SHOOT=[-50.395]\n",
    "(4,2,0):RECHARGE=[-49.815]\n",
    "(4,2,1):SHOOT=[-47.288]\n",
    "(4,2,2):SHOOT=[-44.758]\n",
    "(4,3,0):RECHARGE=[-44.223]\n",
    "(4,3,1):SHOOT=[-41.625]\n",
    "(4,3,2):SHOOT=[-39.023]\n",
    "```"
   ]
  },
  {
   "cell_type": "markdown",
   "metadata": {},
   "source": [
    "**Result of Part 2**\n",
    "```\n",
    "iteration=5\n",
    "(0,0,0):-1=[0.000]\n",
    "(0,0,1):-1=[0.000]\n",
    "(0,0,2):-1=[0.000]\n",
    "(0,1,0):-1=[0.000]\n",
    "(0,1,1):-1=[0.000]\n",
    "(0,1,2):-1=[0.000]\n",
    "(0,2,0):-1=[0.000]\n",
    "(0,2,1):-1=[0.000]\n",
    "(0,2,2):-1=[0.000]\n",
    "(0,3,0):-1=[0.000]\n",
    "(0,3,1):-1=[0.000]\n",
    "(0,3,2):-1=[0.000]\n",
    "(1,0,0):RECHARGE=[-2.775]\n",
    "(1,0,1):DODGE=[-2.744]\n",
    "(1,0,2):DODGE=[-2.442]\n",
    "(1,1,0):RECHARGE=[-2.358]\n",
    "(1,1,1):SHOOT=[2.361]\n",
    "(1,1,2):SHOOT=[2.363]\n",
    "(1,2,0):RECHARGE=[-2.357]\n",
    "(1,2,1):SHOOT=[2.382]\n",
    "(1,2,2):SHOOT=[2.618]\n",
    "(1,3,0):RECHARGE=[-2.357]\n",
    "(1,3,1):SHOOT=[2.382]\n",
    "(1,3,2):SHOOT=[2.619]\n",
    "(2,0,0):RECHARGE=[-2.778]\n",
    "(2,0,1):DODGE=[-2.778]\n",
    "(2,0,2):DODGE=[-2.778]\n",
    "(2,1,0):RECHARGE=[-2.778]\n",
    "(2,1,1):SHOOT=[-2.778]\n",
    "(2,1,2):SHOOT=[-2.776]\n",
    "(2,2,0):RECHARGE=[-2.776]\n",
    "(2,2,1):SHOOT=[-2.757]\n",
    "(2,2,2):SHOOT=[-2.521]\n",
    "(2,3,0):RECHARGE=[-2.776]\n",
    "(2,3,1):SHOOT=[-2.757]\n",
    "(2,3,2):SHOOT=[-2.519]\n",
    "(3,0,0):RECHARGE=[-2.778]\n",
    "(3,0,1):DODGE=[-2.778]\n",
    "(3,0,2):DODGE=[-2.778]\n",
    "(3,1,0):RECHARGE=[-2.778]\n",
    "(3,1,1):SHOOT=[-2.778]\n",
    "(3,1,2):SHOOT=[-2.778]\n",
    "(3,2,0):RECHARGE=[-2.778]\n",
    "(3,2,1):SHOOT=[-2.778]\n",
    "(3,2,2):SHOOT=[-2.778]\n",
    "(3,3,0):RECHARGE=[-2.778]\n",
    "(3,3,1):SHOOT=[-2.778]\n",
    "(3,3,2):SHOOT=[-2.777]\n",
    "(4,0,0):RECHARGE=[-2.778]\n",
    "(4,0,1):DODGE=[-2.778]\n",
    "(4,0,2):DODGE=[-2.778]\n",
    "(4,1,0):RECHARGE=[-2.778]\n",
    "(4,1,1):SHOOT=[-2.778]\n",
    "(4,1,2):SHOOT=[-2.778]\n",
    "(4,2,0):RECHARGE=[-2.778]\n",
    "(4,2,1):SHOOT=[-2.778]\n",
    "(4,2,2):SHOOT=[-2.778]\n",
    "(4,3,0):RECHARGE=[-2.778]\n",
    "(4,3,1):SHOOT=[-2.778]\n",
    "(4,3,2):SHOOT=[-2.778]\n",
    "```"
   ]
  },
  {
   "cell_type": "markdown",
   "metadata": {},
   "source": [
    "**Result of Part 3**\n",
    "```\n",
    "iteration=12\n",
    "(0,0,0):-1=[0.000]\n",
    "(0,0,1):-1=[0.000]\n",
    "(0,0,2):-1=[0.000]\n",
    "(0,1,0):-1=[0.000]\n",
    "(0,1,1):-1=[0.000]\n",
    "(0,1,2):-1=[0.000]\n",
    "(0,2,0):-1=[0.000]\n",
    "(0,2,1):-1=[0.000]\n",
    "(0,2,2):-1=[0.000]\n",
    "(0,3,0):-1=[0.000]\n",
    "(0,3,1):-1=[0.000]\n",
    "(0,3,2):-1=[0.000]\n",
    "(1,0,0):RECHARGE=[-2.775]\n",
    "(1,0,1):DODGE=[-2.744]\n",
    "(1,0,2):DODGE=[-2.442]\n",
    "(1,1,0):RECHARGE=[-2.358]\n",
    "(1,1,1):SHOOT=[2.361]\n",
    "(1,1,2):SHOOT=[2.363]\n",
    "(1,2,0):RECHARGE=[-2.357]\n",
    "(1,2,1):SHOOT=[2.382]\n",
    "(1,2,2):SHOOT=[2.618]\n",
    "(1,3,0):RECHARGE=[-2.357]\n",
    "(1,3,1):SHOOT=[2.382]\n",
    "(1,3,2):SHOOT=[2.619]\n",
    "(2,0,0):RECHARGE=[-2.778]\n",
    "(2,0,1):DODGE=[-2.778]\n",
    "(2,0,2):DODGE=[-2.778]\n",
    "(2,1,0):RECHARGE=[-2.778]\n",
    "(2,1,1):SHOOT=[-2.778]\n",
    "(2,1,2):SHOOT=[-2.776]\n",
    "(2,2,0):RECHARGE=[-2.776]\n",
    "(2,2,1):SHOOT=[-2.757]\n",
    "(2,2,2):SHOOT=[-2.521]\n",
    "(2,3,0):RECHARGE=[-2.776]\n",
    "(2,3,1):SHOOT=[-2.757]\n",
    "(2,3,2):SHOOT=[-2.519]\n",
    "(3,0,0):RECHARGE=[-2.778]\n",
    "(3,0,1):DODGE=[-2.778]\n",
    "(3,0,2):DODGE=[-2.778]\n",
    "(3,1,0):RECHARGE=[-2.778]\n",
    "(3,1,1):SHOOT=[-2.778]\n",
    "(3,1,2):SHOOT=[-2.778]\n",
    "(3,2,0):RECHARGE=[-2.778]\n",
    "(3,2,1):SHOOT=[-2.778]\n",
    "(3,2,2):SHOOT=[-2.778]\n",
    "(3,3,0):RECHARGE=[-2.778]\n",
    "(3,3,1):SHOOT=[-2.778]\n",
    "(3,3,2):SHOOT=[-2.777]\n",
    "(4,0,0):RECHARGE=[-2.778]\n",
    "(4,0,1):DODGE=[-2.778]\n",
    "(4,0,2):DODGE=[-2.778]\n",
    "(4,1,0):RECHARGE=[-2.778]\n",
    "(4,1,1):SHOOT=[-2.778]\n",
    "(4,1,2):SHOOT=[-2.778]\n",
    "(4,2,0):RECHARGE=[-2.778]\n",
    "(4,2,1):SHOOT=[-2.778]\n",
    "(4,2,2):SHOOT=[-2.778]\n",
    "(4,3,0):RECHARGE=[-2.778]\n",
    "(4,3,1):SHOOT=[-2.778]\n",
    "(4,3,2):SHOOT=[-2.778]\n",
    "```"
   ]
  }
 ],
 "metadata": {
  "kernelspec": {
   "display_name": "Python 3.6.8 64-bit",
   "language": "python",
   "name": "python36864bit936fdc4f78e4464fb8d307b432d40f4d"
  },
  "language_info": {
   "codemirror_mode": {
    "name": "ipython",
    "version": 3
   },
   "file_extension": ".py",
   "mimetype": "text/x-python",
   "name": "python",
   "nbconvert_exporter": "python",
   "pygments_lexer": "ipython3",
   "version": "3.6.8"
  }
 },
 "nbformat": 4,
 "nbformat_minor": 2
}
